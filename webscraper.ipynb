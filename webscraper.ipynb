{
 "cells": [
  {
   "cell_type": "code",
   "execution_count": 1,
   "id": "5d423c41",
   "metadata": {},
   "outputs": [],
   "source": [
    "import requests \n",
    "from bs4 import BeautifulSoup"
   ]
  },
  {
   "cell_type": "code",
   "execution_count": 3,
   "id": "99f60d36",
   "metadata": {},
   "outputs": [
    {
     "name": "stdout",
     "output_type": "stream",
     "text": [
      "<html><head><title>Request Rejected</title></head><body>The requested URL was rejected. Please consult with your administrator.<br><br>Your support ID is: 16680365168670376250<br><br><a href='javascript:history.back();'>[Go Back]</a></body></html>\n"
     ]
    }
   ],
   "source": [
    "response = requests.get(\"https://ca.statebank/home\")\n",
    "print(response.text)"
   ]
  },
  {
   "cell_type": "code",
   "execution_count": 2,
   "id": "8b450890",
   "metadata": {},
   "outputs": [
    {
     "ename": "NameError",
     "evalue": "name 'response' is not defined",
     "output_type": "error",
     "traceback": [
      "\u001b[1;31m---------------------------------------------------------------------------\u001b[0m",
      "\u001b[1;31mNameError\u001b[0m                                 Traceback (most recent call last)",
      "Cell \u001b[1;32mIn[2], line 1\u001b[0m\n\u001b[1;32m----> 1\u001b[0m soup \u001b[38;5;241m=\u001b[39m BeautifulSoup(\u001b[43mresponse\u001b[49m\u001b[38;5;241m.\u001b[39mtext, \u001b[38;5;124m'\u001b[39m\u001b[38;5;124mhtml.parser\u001b[39m\u001b[38;5;124m'\u001b[39m)\n",
      "\u001b[1;31mNameError\u001b[0m: name 'response' is not defined"
     ]
    }
   ],
   "source": [
    "soup = BeautifulSoup(response.text, 'html.parser')"
   ]
  },
  {
   "cell_type": "code",
   "execution_count": 5,
   "id": "0e18fcff",
   "metadata": {},
   "outputs": [],
   "source": [
    "sp = soup.find_all(\"span\", attrs = {\"class\":\"value\"})"
   ]
  },
  {
   "cell_type": "code",
   "execution_count": 6,
   "id": "695fd8f5",
   "metadata": {},
   "outputs": [
    {
     "data": {
      "text/plain": [
       "[<span class=\"value\"> ₹\n",
       " \t\t\t\t\t\t\t\t\t\t\t\t60.75 \n",
       " \t\t\t\t\t\t\t\t\t\t\t</span>,\n",
       " <span class=\"value\"> $\n",
       " \t\t\t\t\t\t\t\t\t\t\t\t0.742 \n",
       " \t\t\t\t\t\t\t\t\t\t\t</span>]"
      ]
     },
     "execution_count": 6,
     "metadata": {},
     "output_type": "execute_result"
    }
   ],
   "source": [
    "sp"
   ]
  },
  {
   "cell_type": "code",
   "execution_count": 16,
   "id": "5d512e1b",
   "metadata": {},
   "outputs": [
    {
     "data": {
      "text/plain": [
       "[]"
      ]
     },
     "execution_count": 16,
     "metadata": {},
     "output_type": "execute_result"
    }
   ],
   "source": [
    "sp"
   ]
  },
  {
   "cell_type": "code",
   "execution_count": 4,
   "id": "a31f17db",
   "metadata": {},
   "outputs": [
    {
     "ename": "NameError",
     "evalue": "name 'sp' is not defined",
     "output_type": "error",
     "traceback": [
      "\u001b[1;31m---------------------------------------------------------------------------\u001b[0m",
      "\u001b[1;31mNameError\u001b[0m                                 Traceback (most recent call last)",
      "Cell \u001b[1;32mIn[4], line 1\u001b[0m\n\u001b[1;32m----> 1\u001b[0m \u001b[38;5;28;01mfor\u001b[39;00m span \u001b[38;5;129;01min\u001b[39;00m \u001b[43msp\u001b[49m:\n\u001b[0;32m      2\u001b[0m     \u001b[38;5;66;03m# print(span)\u001b[39;00m\n\u001b[0;32m      3\u001b[0m     \u001b[38;5;66;03m# print(span.get(\"id\"))\u001b[39;00m\n\u001b[0;32m      4\u001b[0m     \u001b[38;5;66;03m# span = sp[0]\u001b[39;00m\n\u001b[0;32m      5\u001b[0m     sp1 \u001b[38;5;241m=\u001b[39m span\u001b[38;5;241m.\u001b[39mget_text()\u001b[38;5;241m.\u001b[39mstrip()\n\u001b[0;32m      6\u001b[0m     \u001b[38;5;66;03m# print(sp1)\u001b[39;00m\n",
      "\u001b[1;31mNameError\u001b[0m: name 'sp' is not defined"
     ]
    }
   ],
   "source": [
    "for span in sp:\n",
    "    # print(span)\n",
    "    # print(span.get(\"id\"))\n",
    "    # span = sp[0]\n",
    "    sp1 = span.get_text().strip()\n",
    "    # print(sp1)\n",
    "    ss = sp1.split()\n",
    "    # print(ss)\n",
    "    #print(len(ss))\n",
    "    #print(ss[0])\n",
    "    #print(\"In for loop\")\n",
    "    # print(ss[0])\n",
    "    if(ss[0] == '₹'):\n",
    "        # print(\"Ïn if conditon\")\n",
    "        inr = ss[1]\n",
    "        # print(inr)\n",
    "        #print(\"INR \" + ss[1])\n",
    "    elif(ss[0] == '$'):\n",
    "        # print(\"In elf condition\")\n",
    "        usd = ss[1]\n",
    "        #print(\"USD \" + ss[1])\n",
    "print(inr)\n",
    "print(usd)\n",
    "    #usd = float(ss[1])\n",
    "#     egp = float(ss[3])\n",
    "#     type(egp)\n",
    "    #type(usd)\n",
    "#     print(egp)\n",
    "    # print(usd)\n",
    "\n",
    "while True:\n",
    "        user1 = input(\"Do you have INR or USD? Please Write INR or USD only: \")\n",
    "        if user1 == \"INR\":\n",
    "            user_input = int(input(\"please enter the amount of INR you want to convert: \"))\n",
    "            user_inputval = (user_input*inr)\n",
    "            print(\"The amount of inr converted to usd is \" +user_inputval)\n",
    "            \n",
    "        elif user1 == \"USD\":\n",
    "            user_in_2 = int(input(\"please enter the amount of USD you want to convert: \"))\n",
    "            user_in_2val = (user_in_2 * usd)\n",
    "\n",
    "            \n",
    "            \n",
    "else:\n",
    "    print(\"not right choice please re-run the prog\")\n"
   ]
  },
  {
   "cell_type": "code",
   "execution_count": null,
   "id": "ca09fd93",
   "metadata": {},
   "outputs": [],
   "source": []
  },
  {
   "cell_type": "code",
   "execution_count": null,
   "id": "2e386fad",
   "metadata": {},
   "outputs": [],
   "source": []
  }
 ],
 "metadata": {
  "kernelspec": {
   "display_name": "Python 3 (ipykernel)",
   "language": "python",
   "name": "python3"
  },
  "language_info": {
   "codemirror_mode": {
    "name": "ipython",
    "version": 3
   },
   "file_extension": ".py",
   "mimetype": "text/x-python",
   "name": "python",
   "nbconvert_exporter": "python",
   "pygments_lexer": "ipython3",
   "version": "3.10.9"
  }
 },
 "nbformat": 4,
 "nbformat_minor": 5
}
